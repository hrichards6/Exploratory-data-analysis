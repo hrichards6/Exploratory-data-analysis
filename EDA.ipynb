{
    "cells": [
        {
            "cell_type": "code",
            "execution_count": null,
            "metadata": {},
            "outputs": [],
            "source": "\n"
        },
        {
            "cell_type": "code",
            "execution_count": null,
            "metadata": {},
            "outputs": [],
            "source": "\n"
        },
        {
            "cell_type": "code",
            "execution_count": 1,
            "metadata": {},
            "outputs": [
                {
                    "data": {
                        "text/html": "<div>\n<style scoped>\n    .dataframe tbody tr th:only-of-type {\n        vertical-align: middle;\n    }\n\n    .dataframe tbody tr th {\n        vertical-align: top;\n    }\n\n    .dataframe thead th {\n        text-align: right;\n    }\n</style>\n<table border=\"1\" class=\"dataframe\">\n  <thead>\n    <tr style=\"text-align: right;\">\n      <th></th>\n      <th>System Name</th>\n      <th>DAT Version (VirusScan Enterprise)</th>\n      <th>Domain Name</th>\n      <th>OS Platform</th>\n      <th>+</th>\n      <th>User Name</th>\n      <th>Last Communication</th>\n    </tr>\n  </thead>\n  <tbody>\n    <tr>\n      <th>0</th>\n      <td>ALIEVAWIN10VM-1</td>\n      <td>9724</td>\n      <td>B2B</td>\n      <td>Workstation</td>\n      <td>OS Type:Windows 10,OS Platform:Workstation,OS ...</td>\n      <td>bylinaw</td>\n      <td>27/08/20 10:12:13 BST</td>\n    </tr>\n    <tr>\n      <th>1</th>\n      <td>ALIW0100640V</td>\n      <td>9724</td>\n      <td>B2B</td>\n      <td>Workstation</td>\n      <td>OS Type:Windows 7,OS Platform:Workstation,OS V...</td>\n      <td>NaN</td>\n      <td>27/08/20 10:18:41 BST</td>\n    </tr>\n    <tr>\n      <th>2</th>\n      <td>ALIW0100836V</td>\n      <td>9724</td>\n      <td>B2B</td>\n      <td>Workstation</td>\n      <td>OS Type:Windows 7,OS Platform:Workstation,OS V...</td>\n      <td>loord</td>\n      <td>27/08/20 10:16:27 BST</td>\n    </tr>\n    <tr>\n      <th>3</th>\n      <td>ALIW100102V</td>\n      <td>9724</td>\n      <td>B2B</td>\n      <td>Workstation</td>\n      <td>OS Type:Windows 10,OS Platform:Workstation,OS ...</td>\n      <td>a-obodb,papadopoulosp</td>\n      <td>27/08/20 10:19:08 BST</td>\n    </tr>\n    <tr>\n      <th>4</th>\n      <td>ALIW100103V</td>\n      <td>9724</td>\n      <td>B2B</td>\n      <td>Workstation</td>\n      <td>OS Type:Windows 10,OS Platform:Workstation,OS ...</td>\n      <td>NaN</td>\n      <td>27/08/20 10:14:44 BST</td>\n    </tr>\n  </tbody>\n</table>\n</div>",
                        "text/plain": "       System Name DAT Version (VirusScan Enterprise) Domain Name  \\\n0  ALIEVAWIN10VM-1                               9724         B2B   \n1     ALIW0100640V                               9724         B2B   \n2     ALIW0100836V                               9724         B2B   \n3      ALIW100102V                               9724         B2B   \n4      ALIW100103V                               9724         B2B   \n\n   OS Platform                                                  +  \\\n0  Workstation  OS Type:Windows 10,OS Platform:Workstation,OS ...   \n1  Workstation  OS Type:Windows 7,OS Platform:Workstation,OS V...   \n2  Workstation  OS Type:Windows 7,OS Platform:Workstation,OS V...   \n3  Workstation  OS Type:Windows 10,OS Platform:Workstation,OS ...   \n4  Workstation  OS Type:Windows 10,OS Platform:Workstation,OS ...   \n\n               User Name     Last Communication  \n0                bylinaw  27/08/20 10:12:13 BST  \n1                    NaN  27/08/20 10:18:41 BST  \n2                  loord  27/08/20 10:16:27 BST  \n3  a-obodb,papadopoulosp  27/08/20 10:19:08 BST  \n4                    NaN  27/08/20 10:14:44 BST  "
                    },
                    "execution_count": 1,
                    "metadata": {},
                    "output_type": "execute_result"
                }
            ],
            "source": "# The code was removed by Watson Studio for sharing."
        },
        {
            "cell_type": "code",
            "execution_count": null,
            "metadata": {},
            "outputs": [],
            "source": ""
        },
        {
            "cell_type": "code",
            "execution_count": 6,
            "metadata": {},
            "outputs": [
                {
                    "data": {
                        "text/html": "<div>\n<style scoped>\n    .dataframe tbody tr th:only-of-type {\n        vertical-align: middle;\n    }\n\n    .dataframe tbody tr th {\n        vertical-align: top;\n    }\n\n    .dataframe thead th {\n        text-align: right;\n    }\n</style>\n<table border=\"1\" class=\"dataframe\">\n  <thead>\n    <tr style=\"text-align: right;\">\n      <th></th>\n      <th>System Name</th>\n      <th>Domain Name</th>\n      <th>OS Platform</th>\n      <th>+</th>\n      <th>User Name</th>\n      <th>Last Communication</th>\n    </tr>\n    <tr>\n      <th>DAT Version (VirusScan Enterprise)</th>\n      <th></th>\n      <th></th>\n      <th></th>\n      <th></th>\n      <th></th>\n      <th></th>\n    </tr>\n  </thead>\n  <tbody>\n    <tr>\n      <th>0</th>\n      <td>14</td>\n      <td>14</td>\n      <td>14</td>\n      <td>14</td>\n      <td>14</td>\n      <td>14</td>\n    </tr>\n    <tr>\n      <th>9315</th>\n      <td>1</td>\n      <td>1</td>\n      <td>1</td>\n      <td>1</td>\n      <td>1</td>\n      <td>1</td>\n    </tr>\n    <tr>\n      <th>9368</th>\n      <td>1</td>\n      <td>1</td>\n      <td>1</td>\n      <td>1</td>\n      <td>0</td>\n      <td>1</td>\n    </tr>\n    <tr>\n      <th>9413</th>\n      <td>1</td>\n      <td>1</td>\n      <td>1</td>\n      <td>1</td>\n      <td>0</td>\n      <td>1</td>\n    </tr>\n    <tr>\n      <th>9419</th>\n      <td>1</td>\n      <td>1</td>\n      <td>1</td>\n      <td>1</td>\n      <td>0</td>\n      <td>1</td>\n    </tr>\n  </tbody>\n</table>\n</div>",
                        "text/plain": "                                    System Name  Domain Name  OS Platform   +  \\\nDAT Version (VirusScan Enterprise)                                              \n0                                            14           14           14  14   \n9315                                          1            1            1   1   \n9368                                          1            1            1   1   \n9413                                          1            1            1   1   \n9419                                          1            1            1   1   \n\n                                    User Name  Last Communication  \nDAT Version (VirusScan Enterprise)                                 \n0                                          14                  14  \n9315                                        1                   1  \n9368                                        0                   1  \n9413                                        0                   1  \n9419                                        0                   1  "
                    },
                    "execution_count": 6,
                    "metadata": {},
                    "output_type": "execute_result"
                }
            ],
            "source": "data = data.groupby(by = [\"DAT Version (VirusScan Enterprise)\"]).count()\ndata.head()"
        },
        {
            "cell_type": "code",
            "execution_count": 7,
            "metadata": {},
            "outputs": [
                {
                    "data": {
                        "text/html": "<div>\n<style scoped>\n    .dataframe tbody tr th:only-of-type {\n        vertical-align: middle;\n    }\n\n    .dataframe tbody tr th {\n        vertical-align: top;\n    }\n\n    .dataframe thead th {\n        text-align: right;\n    }\n</style>\n<table border=\"1\" class=\"dataframe\">\n  <thead>\n    <tr style=\"text-align: right;\">\n      <th></th>\n      <th>System Name</th>\n      <th>Domain Name</th>\n      <th>OS Platform</th>\n      <th>+</th>\n      <th>User Name</th>\n      <th>Last Communication</th>\n    </tr>\n    <tr>\n      <th>DAT Version (VirusScan Enterprise)</th>\n      <th></th>\n      <th></th>\n      <th></th>\n      <th></th>\n      <th></th>\n      <th></th>\n    </tr>\n  </thead>\n  <tbody>\n    <tr>\n      <th>9722</th>\n      <td>76</td>\n      <td>76</td>\n      <td>76</td>\n      <td>76</td>\n      <td>71</td>\n      <td>76</td>\n    </tr>\n    <tr>\n      <th>9723</th>\n      <td>124</td>\n      <td>124</td>\n      <td>124</td>\n      <td>124</td>\n      <td>108</td>\n      <td>124</td>\n    </tr>\n    <tr>\n      <th>9724</th>\n      <td>1757</td>\n      <td>1757</td>\n      <td>1757</td>\n      <td>1757</td>\n      <td>1680</td>\n      <td>1757</td>\n    </tr>\n    <tr>\n      <th>9725</th>\n      <td>1049</td>\n      <td>1049</td>\n      <td>1049</td>\n      <td>1049</td>\n      <td>1002</td>\n      <td>1049</td>\n    </tr>\n    <tr>\n      <th>DAT Version (VirusScan Enterprise)</th>\n      <td>1</td>\n      <td>1</td>\n      <td>1</td>\n      <td>1</td>\n      <td>1</td>\n      <td>1</td>\n    </tr>\n  </tbody>\n</table>\n</div>",
                        "text/plain": "                                    System Name  Domain Name  OS Platform  \\\nDAT Version (VirusScan Enterprise)                                          \n9722                                         76           76           76   \n9723                                        124          124          124   \n9724                                       1757         1757         1757   \n9725                                       1049         1049         1049   \nDAT Version (VirusScan Enterprise)            1            1            1   \n\n                                       +  User Name  Last Communication  \nDAT Version (VirusScan Enterprise)                                       \n9722                                  76         71                  76  \n9723                                 124        108                 124  \n9724                                1757       1680                1757  \n9725                                1049       1002                1049  \nDAT Version (VirusScan Enterprise)     1          1                   1  "
                    },
                    "execution_count": 7,
                    "metadata": {},
                    "output_type": "execute_result"
                }
            ],
            "source": "data.tail()"
        },
        {
            "cell_type": "code",
            "execution_count": 15,
            "metadata": {},
            "outputs": [],
            "source": "data  = data.drop([\"Domain Name\", \"OS Platform\", \"+\", \"User Name\", \"Last Communication\"], axis = 1)"
        },
        {
            "cell_type": "code",
            "execution_count": 16,
            "metadata": {},
            "outputs": [
                {
                    "data": {
                        "text/html": "<div>\n<style scoped>\n    .dataframe tbody tr th:only-of-type {\n        vertical-align: middle;\n    }\n\n    .dataframe tbody tr th {\n        vertical-align: top;\n    }\n\n    .dataframe thead th {\n        text-align: right;\n    }\n</style>\n<table border=\"1\" class=\"dataframe\">\n  <thead>\n    <tr style=\"text-align: right;\">\n      <th></th>\n      <th>System Name</th>\n    </tr>\n    <tr>\n      <th>DAT Version (VirusScan Enterprise)</th>\n      <th></th>\n    </tr>\n  </thead>\n  <tbody>\n    <tr>\n      <th>0</th>\n      <td>14</td>\n    </tr>\n    <tr>\n      <th>9315</th>\n      <td>1</td>\n    </tr>\n    <tr>\n      <th>9368</th>\n      <td>1</td>\n    </tr>\n    <tr>\n      <th>9413</th>\n      <td>1</td>\n    </tr>\n    <tr>\n      <th>9419</th>\n      <td>1</td>\n    </tr>\n    <tr>\n      <th>9444</th>\n      <td>1</td>\n    </tr>\n    <tr>\n      <th>9478</th>\n      <td>1</td>\n    </tr>\n    <tr>\n      <th>9493</th>\n      <td>1</td>\n    </tr>\n    <tr>\n      <th>9543</th>\n      <td>1</td>\n    </tr>\n    <tr>\n      <th>9549</th>\n      <td>1</td>\n    </tr>\n    <tr>\n      <th>9555</th>\n      <td>2</td>\n    </tr>\n    <tr>\n      <th>9556</th>\n      <td>1</td>\n    </tr>\n    <tr>\n      <th>9557</th>\n      <td>1</td>\n    </tr>\n    <tr>\n      <th>9558</th>\n      <td>1</td>\n    </tr>\n    <tr>\n      <th>9564</th>\n      <td>1</td>\n    </tr>\n    <tr>\n      <th>9571</th>\n      <td>1</td>\n    </tr>\n    <tr>\n      <th>9596</th>\n      <td>1</td>\n    </tr>\n    <tr>\n      <th>9617</th>\n      <td>1</td>\n    </tr>\n    <tr>\n      <th>9619</th>\n      <td>1</td>\n    </tr>\n    <tr>\n      <th>9631</th>\n      <td>1</td>\n    </tr>\n    <tr>\n      <th>9633</th>\n      <td>2</td>\n    </tr>\n    <tr>\n      <th>9638</th>\n      <td>1</td>\n    </tr>\n    <tr>\n      <th>9642</th>\n      <td>1</td>\n    </tr>\n    <tr>\n      <th>9648</th>\n      <td>2</td>\n    </tr>\n    <tr>\n      <th>9649</th>\n      <td>1</td>\n    </tr>\n    <tr>\n      <th>9652</th>\n      <td>1</td>\n    </tr>\n    <tr>\n      <th>9653</th>\n      <td>3</td>\n    </tr>\n    <tr>\n      <th>9654</th>\n      <td>2</td>\n    </tr>\n    <tr>\n      <th>9656</th>\n      <td>1</td>\n    </tr>\n    <tr>\n      <th>9660</th>\n      <td>1</td>\n    </tr>\n    <tr>\n      <th>...</th>\n      <td>...</td>\n    </tr>\n    <tr>\n      <th>9697</th>\n      <td>38</td>\n    </tr>\n    <tr>\n      <th>9698</th>\n      <td>3</td>\n    </tr>\n    <tr>\n      <th>9699</th>\n      <td>6</td>\n    </tr>\n    <tr>\n      <th>9700</th>\n      <td>9</td>\n    </tr>\n    <tr>\n      <th>9701</th>\n      <td>31</td>\n    </tr>\n    <tr>\n      <th>9702</th>\n      <td>28</td>\n    </tr>\n    <tr>\n      <th>9703</th>\n      <td>17</td>\n    </tr>\n    <tr>\n      <th>9704</th>\n      <td>30</td>\n    </tr>\n    <tr>\n      <th>9705</th>\n      <td>19</td>\n    </tr>\n    <tr>\n      <th>9706</th>\n      <td>6</td>\n    </tr>\n    <tr>\n      <th>9707</th>\n      <td>8</td>\n    </tr>\n    <tr>\n      <th>9708</th>\n      <td>20</td>\n    </tr>\n    <tr>\n      <th>9709</th>\n      <td>21</td>\n    </tr>\n    <tr>\n      <th>9710</th>\n      <td>37</td>\n    </tr>\n    <tr>\n      <th>9711</th>\n      <td>30</td>\n    </tr>\n    <tr>\n      <th>9712</th>\n      <td>50</td>\n    </tr>\n    <tr>\n      <th>9713</th>\n      <td>6</td>\n    </tr>\n    <tr>\n      <th>9714</th>\n      <td>11</td>\n    </tr>\n    <tr>\n      <th>9715</th>\n      <td>45</td>\n    </tr>\n    <tr>\n      <th>9716</th>\n      <td>48</td>\n    </tr>\n    <tr>\n      <th>9717</th>\n      <td>50</td>\n    </tr>\n    <tr>\n      <th>9718</th>\n      <td>48</td>\n    </tr>\n    <tr>\n      <th>9719</th>\n      <td>119</td>\n    </tr>\n    <tr>\n      <th>9720</th>\n      <td>10</td>\n    </tr>\n    <tr>\n      <th>9721</th>\n      <td>19</td>\n    </tr>\n    <tr>\n      <th>9722</th>\n      <td>76</td>\n    </tr>\n    <tr>\n      <th>9723</th>\n      <td>124</td>\n    </tr>\n    <tr>\n      <th>9724</th>\n      <td>1757</td>\n    </tr>\n    <tr>\n      <th>9725</th>\n      <td>1049</td>\n    </tr>\n    <tr>\n      <th>DAT Version (VirusScan Enterprise)</th>\n      <td>1</td>\n    </tr>\n  </tbody>\n</table>\n<p>79 rows \u00d7 1 columns</p>\n</div>",
                        "text/plain": "                                    System Name\nDAT Version (VirusScan Enterprise)             \n0                                            14\n9315                                          1\n9368                                          1\n9413                                          1\n9419                                          1\n9444                                          1\n9478                                          1\n9493                                          1\n9543                                          1\n9549                                          1\n9555                                          2\n9556                                          1\n9557                                          1\n9558                                          1\n9564                                          1\n9571                                          1\n9596                                          1\n9617                                          1\n9619                                          1\n9631                                          1\n9633                                          2\n9638                                          1\n9642                                          1\n9648                                          2\n9649                                          1\n9652                                          1\n9653                                          3\n9654                                          2\n9656                                          1\n9660                                          1\n...                                         ...\n9697                                         38\n9698                                          3\n9699                                          6\n9700                                          9\n9701                                         31\n9702                                         28\n9703                                         17\n9704                                         30\n9705                                         19\n9706                                          6\n9707                                          8\n9708                                         20\n9709                                         21\n9710                                         37\n9711                                         30\n9712                                         50\n9713                                          6\n9714                                         11\n9715                                         45\n9716                                         48\n9717                                         50\n9718                                         48\n9719                                        119\n9720                                         10\n9721                                         19\n9722                                         76\n9723                                        124\n9724                                       1757\n9725                                       1049\nDAT Version (VirusScan Enterprise)            1\n\n[79 rows x 1 columns]"
                    },
                    "execution_count": 16,
                    "metadata": {},
                    "output_type": "execute_result"
                }
            ],
            "source": "data"
        },
        {
            "cell_type": "code",
            "execution_count": 19,
            "metadata": {},
            "outputs": [
                {
                    "data": {
                        "text/html": "<div>\n<style scoped>\n    .dataframe tbody tr th:only-of-type {\n        vertical-align: middle;\n    }\n\n    .dataframe tbody tr th {\n        vertical-align: top;\n    }\n\n    .dataframe thead th {\n        text-align: right;\n    }\n</style>\n<table border=\"1\" class=\"dataframe\">\n  <thead>\n    <tr style=\"text-align: right;\">\n      <th></th>\n      <th>Number of Devices</th>\n    </tr>\n    <tr>\n      <th>DAT Version (VirusScan Enterprise)</th>\n      <th></th>\n    </tr>\n  </thead>\n  <tbody>\n    <tr>\n      <th>0</th>\n      <td>14</td>\n    </tr>\n    <tr>\n      <th>9315</th>\n      <td>1</td>\n    </tr>\n    <tr>\n      <th>9368</th>\n      <td>1</td>\n    </tr>\n    <tr>\n      <th>9413</th>\n      <td>1</td>\n    </tr>\n    <tr>\n      <th>9419</th>\n      <td>1</td>\n    </tr>\n    <tr>\n      <th>9444</th>\n      <td>1</td>\n    </tr>\n    <tr>\n      <th>9478</th>\n      <td>1</td>\n    </tr>\n    <tr>\n      <th>9493</th>\n      <td>1</td>\n    </tr>\n    <tr>\n      <th>9543</th>\n      <td>1</td>\n    </tr>\n    <tr>\n      <th>9549</th>\n      <td>1</td>\n    </tr>\n    <tr>\n      <th>9555</th>\n      <td>2</td>\n    </tr>\n    <tr>\n      <th>9556</th>\n      <td>1</td>\n    </tr>\n    <tr>\n      <th>9557</th>\n      <td>1</td>\n    </tr>\n    <tr>\n      <th>9558</th>\n      <td>1</td>\n    </tr>\n    <tr>\n      <th>9564</th>\n      <td>1</td>\n    </tr>\n    <tr>\n      <th>9571</th>\n      <td>1</td>\n    </tr>\n    <tr>\n      <th>9596</th>\n      <td>1</td>\n    </tr>\n    <tr>\n      <th>9617</th>\n      <td>1</td>\n    </tr>\n    <tr>\n      <th>9619</th>\n      <td>1</td>\n    </tr>\n    <tr>\n      <th>9631</th>\n      <td>1</td>\n    </tr>\n    <tr>\n      <th>9633</th>\n      <td>2</td>\n    </tr>\n    <tr>\n      <th>9638</th>\n      <td>1</td>\n    </tr>\n    <tr>\n      <th>9642</th>\n      <td>1</td>\n    </tr>\n    <tr>\n      <th>9648</th>\n      <td>2</td>\n    </tr>\n    <tr>\n      <th>9649</th>\n      <td>1</td>\n    </tr>\n    <tr>\n      <th>9652</th>\n      <td>1</td>\n    </tr>\n    <tr>\n      <th>9653</th>\n      <td>3</td>\n    </tr>\n    <tr>\n      <th>9654</th>\n      <td>2</td>\n    </tr>\n    <tr>\n      <th>9656</th>\n      <td>1</td>\n    </tr>\n    <tr>\n      <th>9660</th>\n      <td>1</td>\n    </tr>\n    <tr>\n      <th>...</th>\n      <td>...</td>\n    </tr>\n    <tr>\n      <th>9697</th>\n      <td>38</td>\n    </tr>\n    <tr>\n      <th>9698</th>\n      <td>3</td>\n    </tr>\n    <tr>\n      <th>9699</th>\n      <td>6</td>\n    </tr>\n    <tr>\n      <th>9700</th>\n      <td>9</td>\n    </tr>\n    <tr>\n      <th>9701</th>\n      <td>31</td>\n    </tr>\n    <tr>\n      <th>9702</th>\n      <td>28</td>\n    </tr>\n    <tr>\n      <th>9703</th>\n      <td>17</td>\n    </tr>\n    <tr>\n      <th>9704</th>\n      <td>30</td>\n    </tr>\n    <tr>\n      <th>9705</th>\n      <td>19</td>\n    </tr>\n    <tr>\n      <th>9706</th>\n      <td>6</td>\n    </tr>\n    <tr>\n      <th>9707</th>\n      <td>8</td>\n    </tr>\n    <tr>\n      <th>9708</th>\n      <td>20</td>\n    </tr>\n    <tr>\n      <th>9709</th>\n      <td>21</td>\n    </tr>\n    <tr>\n      <th>9710</th>\n      <td>37</td>\n    </tr>\n    <tr>\n      <th>9711</th>\n      <td>30</td>\n    </tr>\n    <tr>\n      <th>9712</th>\n      <td>50</td>\n    </tr>\n    <tr>\n      <th>9713</th>\n      <td>6</td>\n    </tr>\n    <tr>\n      <th>9714</th>\n      <td>11</td>\n    </tr>\n    <tr>\n      <th>9715</th>\n      <td>45</td>\n    </tr>\n    <tr>\n      <th>9716</th>\n      <td>48</td>\n    </tr>\n    <tr>\n      <th>9717</th>\n      <td>50</td>\n    </tr>\n    <tr>\n      <th>9718</th>\n      <td>48</td>\n    </tr>\n    <tr>\n      <th>9719</th>\n      <td>119</td>\n    </tr>\n    <tr>\n      <th>9720</th>\n      <td>10</td>\n    </tr>\n    <tr>\n      <th>9721</th>\n      <td>19</td>\n    </tr>\n    <tr>\n      <th>9722</th>\n      <td>76</td>\n    </tr>\n    <tr>\n      <th>9723</th>\n      <td>124</td>\n    </tr>\n    <tr>\n      <th>9724</th>\n      <td>1757</td>\n    </tr>\n    <tr>\n      <th>9725</th>\n      <td>1049</td>\n    </tr>\n    <tr>\n      <th>DAT Version (VirusScan Enterprise)</th>\n      <td>1</td>\n    </tr>\n  </tbody>\n</table>\n<p>79 rows \u00d7 1 columns</p>\n</div>",
                        "text/plain": "                                    Number of Devices \nDAT Version (VirusScan Enterprise)                    \n0                                                   14\n9315                                                 1\n9368                                                 1\n9413                                                 1\n9419                                                 1\n9444                                                 1\n9478                                                 1\n9493                                                 1\n9543                                                 1\n9549                                                 1\n9555                                                 2\n9556                                                 1\n9557                                                 1\n9558                                                 1\n9564                                                 1\n9571                                                 1\n9596                                                 1\n9617                                                 1\n9619                                                 1\n9631                                                 1\n9633                                                 2\n9638                                                 1\n9642                                                 1\n9648                                                 2\n9649                                                 1\n9652                                                 1\n9653                                                 3\n9654                                                 2\n9656                                                 1\n9660                                                 1\n...                                                ...\n9697                                                38\n9698                                                 3\n9699                                                 6\n9700                                                 9\n9701                                                31\n9702                                                28\n9703                                                17\n9704                                                30\n9705                                                19\n9706                                                 6\n9707                                                 8\n9708                                                20\n9709                                                21\n9710                                                37\n9711                                                30\n9712                                                50\n9713                                                 6\n9714                                                11\n9715                                                45\n9716                                                48\n9717                                                50\n9718                                                48\n9719                                               119\n9720                                                10\n9721                                                19\n9722                                                76\n9723                                               124\n9724                                              1757\n9725                                              1049\nDAT Version (VirusScan Enterprise)                   1\n\n[79 rows x 1 columns]"
                    },
                    "execution_count": 19,
                    "metadata": {},
                    "output_type": "execute_result"
                }
            ],
            "source": "data.rename(columns = {'System Name': 'Number of Devices '})"
        },
        {
            "cell_type": "code",
            "execution_count": 23,
            "metadata": {},
            "outputs": [
                {
                    "data": {
                        "text/plain": "(52, 1)"
                    },
                    "execution_count": 23,
                    "metadata": {},
                    "output_type": "execute_result"
                }
            ],
            "source": "duplicate_rows_data = data[data.duplicated()]\nduplicate_rows_data.shape"
        },
        {
            "cell_type": "code",
            "execution_count": 26,
            "metadata": {},
            "outputs": [
                {
                    "data": {
                        "text/plain": "Index(['0', '9315', '9368', '9413', '9419', '9444', '9478', '9493', '9543',\n       '9549', '9555', '9556', '9557', '9558', '9564', '9571', '9596', '9617',\n       '9619', '9631', '9633', '9638', '9642', '9648', '9649', '9652', '9653',\n       '9654', '9656', '9660', '9661', '9663', '9667', '9668', '9670', '9672',\n       '9674', '9676', '9680', '9681', '9682', '9683', '9684', '9688', '9691',\n       '9693', '9694', '9695', '9696', '9697', '9698', '9699', '9700', '9701',\n       '9702', '9703', '9704', '9705', '9706', '9707', '9708', '9709', '9710',\n       '9711', '9712', '9713', '9714', '9715', '9716', '9717', '9718', '9719',\n       '9720', '9721', '9722', '9723', '9724', '9725',\n       'DAT Version (VirusScan Enterprise)'],\n      dtype='object', name='DAT Version (VirusScan Enterprise)')"
                    },
                    "execution_count": 26,
                    "metadata": {},
                    "output_type": "execute_result"
                }
            ],
            "source": "data.index.unique()"
        },
        {
            "cell_type": "code",
            "execution_count": 30,
            "metadata": {},
            "outputs": [],
            "source": "data = data.drop('DAT Version (VirusScan Enterprise)')"
        },
        {
            "cell_type": "code",
            "execution_count": 37,
            "metadata": {},
            "outputs": [],
            "source": "data.to_csv('DAT_compiance_report1.csv')"
        },
        {
            "cell_type": "code",
            "execution_count": 40,
            "metadata": {},
            "outputs": [
                {
                    "data": {
                        "text/html": "<div>\n<style scoped>\n    .dataframe tbody tr th:only-of-type {\n        vertical-align: middle;\n    }\n\n    .dataframe tbody tr th {\n        vertical-align: top;\n    }\n\n    .dataframe thead th {\n        text-align: right;\n    }\n</style>\n<table border=\"1\" class=\"dataframe\">\n  <thead>\n    <tr style=\"text-align: right;\">\n      <th></th>\n      <th>DAT Version (VirusScan Enterprise)</th>\n      <th>System Name</th>\n    </tr>\n  </thead>\n  <tbody>\n    <tr>\n      <th>0</th>\n      <td>0</td>\n      <td>14</td>\n    </tr>\n    <tr>\n      <th>1</th>\n      <td>9315</td>\n      <td>1</td>\n    </tr>\n    <tr>\n      <th>2</th>\n      <td>9368</td>\n      <td>1</td>\n    </tr>\n    <tr>\n      <th>3</th>\n      <td>9413</td>\n      <td>1</td>\n    </tr>\n    <tr>\n      <th>4</th>\n      <td>9419</td>\n      <td>1</td>\n    </tr>\n  </tbody>\n</table>\n</div>",
                        "text/plain": "   DAT Version (VirusScan Enterprise)  System Name\n0                                   0           14\n1                                9315            1\n2                                9368            1\n3                                9413            1\n4                                9419            1"
                    },
                    "execution_count": 40,
                    "metadata": {},
                    "output_type": "execute_result"
                }
            ],
            "source": "practice = pd.read_csv('DAT_compiance_report1.csv')\npractice.head()"
        },
        {
            "cell_type": "code",
            "execution_count": 42,
            "metadata": {},
            "outputs": [
                {
                    "data": {
                        "text/html": "<a download=\"DAT_compiance_report1.csv\" href=\"data:text/csv;base64,REFUIFZlcnNpb24gKFZpcnVzU2NhbiBFbnRlcnByaXNlKSxTeXN0ZW0gTmFtZQowLDE0CjkzMTUsMQo5MzY4LDEKOTQxMywxCjk0MTksMQo5NDQ0LDEKOTQ3OCwxCjk0OTMsMQo5NTQzLDEKOTU0OSwxCjk1NTUsMgo5NTU2LDEKOTU1NywxCjk1NTgsMQo5NTY0LDEKOTU3MSwxCjk1OTYsMQo5NjE3LDEKOTYxOSwxCjk2MzEsMQo5NjMzLDIKOTYzOCwxCjk2NDIsMQo5NjQ4LDIKOTY0OSwxCjk2NTIsMQo5NjUzLDMKOTY1NCwyCjk2NTYsMQo5NjYwLDEKOTY2MSwxCjk2NjMsMgo5NjY3LDMKOTY2OCwxCjk2NzAsMQo5NjcyLDIKOTY3NCwyCjk2NzYsMgo5NjgwLDIKOTY4MSwxCjk2ODIsMQo5NjgzLDEKOTY4NCwxCjk2ODgsMgo5NjkxLDEKOTY5MywxCjk2OTQsMQo5Njk1LDE4Cjk2OTYsMzEKOTY5NywzOAo5Njk4LDMKOTY5OSw2Cjk3MDAsOQo5NzAxLDMxCjk3MDIsMjgKOTcwMywxNwo5NzA0LDMwCjk3MDUsMTkKOTcwNiw2Cjk3MDcsOAo5NzA4LDIwCjk3MDksMjEKOTcxMCwzNwo5NzExLDMwCjk3MTIsNTAKOTcxMyw2Cjk3MTQsMTEKOTcxNSw0NQo5NzE2LDQ4Cjk3MTcsNTAKOTcxOCw0OAo5NzE5LDExOQo5NzIwLDEwCjk3MjEsMTkKOTcyMiw3Ngo5NzIzLDEyNAo5NzI0LDE3NTcKOTcyNSwxMDQ5Cg==\" target=\"_blank\">Download CSV file</a>",
                        "text/plain": "<IPython.core.display.HTML object>"
                    },
                    "execution_count": 42,
                    "metadata": {},
                    "output_type": "execute_result"
                }
            ],
            "source": "##Download the file through the notebook \u2014 but only if the file is in CSV format.\nimport base64\nfrom IPython.display import HTML\n\ndef create_download_link( data, title = \"Download CSV file\", filename = \"DAT_compiance_report1.csv\"):  \n    csv = data.to_csv()\n    b64 = base64.b64encode(csv.encode())\n    payload = b64.decode()\n    html = '<a download=\"{filename}\" href=\"data:text/csv;base64,{payload}\" target=\"_blank\">{title}</a>'\n    html = html.format(payload=payload,title=title,filename=filename)\n    return HTML(html)\n\ncreate_download_link(data)"
        },
        {
            "cell_type": "code",
            "execution_count": null,
            "metadata": {},
            "outputs": [],
            "source": ""
        }
    ],
    "metadata": {
        "kernelspec": {
            "display_name": "Python 3.6",
            "language": "python",
            "name": "python3"
        },
        "language_info": {
            "codemirror_mode": {
                "name": "ipython",
                "version": 3
            },
            "file_extension": ".py",
            "mimetype": "text/x-python",
            "name": "python",
            "nbconvert_exporter": "python",
            "pygments_lexer": "ipython3",
            "version": "3.6.9"
        }
    },
    "nbformat": 4,
    "nbformat_minor": 1
}